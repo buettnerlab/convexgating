{
 "cells": [
  {
   "cell_type": "markdown",
   "id": "91b1ff60",
   "metadata": {},
   "source": [
    "# ConvexGating tutorial"
   ]
  },
  {
   "cell_type": "markdown",
   "id": "dddbeb7f",
   "metadata": {},
   "source": [
    "### Load necessary packages for tutorial\n",
    "Make sure that the required packages are properly installed. For the installation of **ConvexGating** see https://github.com/buettnerlab/convex_gating#installation."
   ]
  },
  {
   "cell_type": "code",
   "execution_count": 3,
   "id": "d3ef2fed",
   "metadata": {},
   "outputs": [],
   "source": [
    "import convexgating as cg\n",
    "import scanpy as sc\n",
    "import anndata as ann\n",
    "import pandas as pd\n",
    "from sklearn.cluster import KMeans\n",
    "from sklearn.datasets import make_blobs"
   ]
  },
  {
   "cell_type": "markdown",
   "id": "eee56253",
   "metadata": {},
   "source": [
    "# Generate toy data set\n",
    "We generate a toy data set with 5000 observations and 12 features originating from 3 cluster centers. Input file format for **ConvexGating** is **anndata**, see https://anndata.readthedocs.io/."
   ]
  },
  {
   "cell_type": "code",
   "execution_count": 5,
   "id": "148b68e8",
   "metadata": {},
   "outputs": [],
   "source": [
    "n_features = 12\n",
    "X,y = make_blobs(5000, n_features=n_features, centers=3,cluster_std = 3)\n",
    "\n",
    "var_names = []\n",
    "for j in range(1,n_features+1):\n",
    "    var_names.append('feature_' +str(j))\n",
    "    \n",
    "adata = ann.AnnData(X=X)\n",
    "adata.var.index = var_names    "
   ]
  },
  {
   "cell_type": "markdown",
   "id": "aec3786f",
   "metadata": {},
   "source": [
    "# Clustering\n",
    "Generate **labels** in an unsupervised fashion via **clustering**, e.g by applying **KMeans algorithm**."
   ]
  },
  {
   "cell_type": "code",
   "execution_count": 7,
   "id": "23759179",
   "metadata": {},
   "outputs": [],
   "source": [
    "model = KMeans(n_clusters = 4)\n",
    "model.fit(adata.X)\n",
    "labels = model.labels_\n",
    "adata.obs['KMeans'] = [str(i) for i in labels]"
   ]
  },
  {
   "cell_type": "markdown",
   "id": "314d128d",
   "metadata": {},
   "source": [
    "# Apply ConvexGating\n",
    "Find gating strategies for all clusters via **ConvexGating**. As input, **ConvexGating** requires an **anndata object** (adata), a **list** of **cluster identifiers** (cluster_numbers) and the **column name** for the **column** with **label information** in **adata.obs** (KMeans). If necessary, **model hyperparameters** can be adjusted in convex_gating/convex_gating/hyperparameters.py."
   ]
  },
  {
   "cell_type": "code",
   "execution_count": 1,
   "id": "4ba7d20b",
   "metadata": {},
   "outputs": [],
   "source": [
    "cluster_numbers = pd.unique(adata.obs['KMeans'])\n",
    "cg.tools.gating_strategy(adata,cluster_numbers,cluster_string = 'KMeans')"
   ]
  }
 ],
 "metadata": {
  "kernelspec": {
   "display_name": "Python 3 (ipykernel)",
   "language": "python",
   "name": "python3"
  },
  "language_info": {
   "codemirror_mode": {
    "name": "ipython",
    "version": 3
   },
   "file_extension": ".py",
   "mimetype": "text/x-python",
   "name": "python",
   "nbconvert_exporter": "python",
   "pygments_lexer": "ipython3",
   "version": "3.9.7"
  }
 },
 "nbformat": 4,
 "nbformat_minor": 5
}
